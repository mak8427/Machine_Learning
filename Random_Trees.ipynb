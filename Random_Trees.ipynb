{
  "cells": [
    {
      "cell_type": "markdown",
      "id": "bc713cda",
      "metadata": {
        "id": "bc713cda"
      },
      "source": [
        "# Machine Learning - Practical 4 - Deep Learning VS Trees\n",
        "\n",
        "\n",
        "Names: {YOUR NAMES}  \n",
        "Summer Term 2024   "
      ]
    },
    {
      "cell_type": "markdown",
      "id": "0e394c4e",
      "metadata": {
        "id": "0e394c4e"
      },
      "source": [
        "In this practical we are going to use a tabular dataset. We will test two different approaches - forests and neural networks and compare performance. We are also going to learn how to make trees interpretable."
      ]
    },
    {
      "cell_type": "code",
      "source": [],
      "metadata": {
        "id": "BYBgRAPmpAt7"
      },
      "id": "BYBgRAPmpAt7",
      "execution_count": null,
      "outputs": []
    },
    {
      "cell_type": "markdown",
      "id": "72933ee7",
      "metadata": {
        "id": "72933ee7"
      },
      "source": [
        "To prepare this tutorial we used [this paper](https://arxiv.org/pdf/2207.08815.pdf) with its [repository](https://github.com/LeoGrin/tabular-benchmark).\n",
        "\n",
        "For explained variance in trees, you can read more [here](https://scikit-learn.org/0.15/auto_examples/ensemble/plot_gradient_boosting_regression.html#example-ensemble-plot-gradient-boosting-regression-py).\n"
      ]
    },
    {
      "cell_type": "code",
      "execution_count": null,
      "id": "218de310",
      "metadata": {
        "colab": {
          "base_uri": "https://localhost:8080/"
        },
        "id": "218de310",
        "outputId": "b5301707-7d12-4147-cb89-45a9fac13940"
      },
      "outputs": [
        {
          "output_type": "execute_result",
          "data": {
            "text/plain": [
              "<torch._C.Generator at 0x7e46b3bcd6f0>"
            ]
          },
          "metadata": {},
          "execution_count": 1
        }
      ],
      "source": [
        "%matplotlib inline\n",
        "\n",
        "import pandas as pd\n",
        "import seaborn as sns\n",
        "import matplotlib.pyplot as plt\n",
        "import numpy as np\n",
        "import pickle\n",
        "import os\n",
        "\n",
        "from sklearn.model_selection import train_test_split\n",
        "from sklearn.ensemble import GradientBoostingClassifier\n",
        "from sklearn.metrics import recall_score, precision_score, accuracy_score\n",
        "\n",
        "from PIL import Image\n",
        "import torch\n",
        "import torch.nn as nn\n",
        "from torch.utils.data import DataLoader, Dataset, Subset\n",
        "import torchvision.datasets as datasets\n",
        "import torchvision.transforms as transforms\n",
        "from torchvision.utils import make_grid\n",
        "torch.manual_seed(42) # Set manual seed"
      ]
    },
    {
      "cell_type": "code",
      "execution_count": null,
      "id": "3bb2c837",
      "metadata": {
        "id": "3bb2c837",
        "colab": {
          "base_uri": "https://localhost:8080/"
        },
        "outputId": "3fee5cfe-050e-43ff-b129-dcc01b734694"
      },
      "outputs": [
        {
          "output_type": "stream",
          "name": "stdout",
          "text": [
            "Using device cpu\n"
          ]
        }
      ],
      "source": [
        "# DO NOT CHANGE\n",
        "use_cuda = True\n",
        "use_cuda = False if not use_cuda else torch.cuda.is_available()\n",
        "device = torch.device('cuda:0' if use_cuda else 'cpu')\n",
        "torch.cuda.get_device_name(device) if use_cuda else 'cpu'\n",
        "print('Using device', device)"
      ]
    },
    {
      "cell_type": "markdown",
      "id": "8e24771e",
      "metadata": {
        "id": "8e24771e"
      },
      "source": [
        "## Load, clean and split the tabular dataset\n",
        "\n",
        "**Data description:**  \n",
        "Predict whether income exceeds $50K/yr based on census data. Also known as \"Census Income\" dataset.  \n",
        "\n",
        "Data is from https://archive.ics.uci.edu/dataset/2/adult\n",
        "\n",
        "*Disclaimer* numbers below for Neural Networks, etc are outdated, so do not orient on these\n",
        "\n",
        "**Task:** - download the dataset in python and load it here. Check the dataset size and preliminary artifacts.  \n",
        "\n",
        "*Hint:*\n",
        "* How many unique values the target column should have?"
      ]
    },
    {
      "cell_type": "code",
      "execution_count": null,
      "id": "4bebdb9f-26ff-4b24-8114-40346ab1dd3c",
      "metadata": {
        "colab": {
          "base_uri": "https://localhost:8080/"
        },
        "id": "4bebdb9f-26ff-4b24-8114-40346ab1dd3c",
        "outputId": "c535a16c-a964-4a18-b21b-535c283480e9"
      },
      "outputs": [
        {
          "output_type": "stream",
          "name": "stdout",
          "text": [
            "--2024-06-09 19:03:23--  https://archive.ics.uci.edu/static/public/2/adult.zip\n",
            "Resolving archive.ics.uci.edu (archive.ics.uci.edu)... 128.195.10.252\n",
            "Connecting to archive.ics.uci.edu (archive.ics.uci.edu)|128.195.10.252|:443... connected.\n",
            "HTTP request sent, awaiting response... 200 OK\n",
            "Length: unspecified\n",
            "Saving to: ‘adult.zip.1’\n",
            "\n",
            "adult.zip.1             [  <=>               ] 605.70K  1.72MB/s    in 0.3s    \n",
            "\n",
            "2024-06-09 19:03:24 (1.72 MB/s) - ‘adult.zip.1’ saved [620237]\n",
            "\n",
            "Archive:  adult.zip\n",
            "  inflating: Index                   \n",
            "  inflating: adult.data              \n",
            "  inflating: adult.names             \n",
            "  inflating: adult.test              \n",
            "  inflating: old.adult.names         \n"
          ]
        }
      ],
      "source": [
        "# TODO - download the dataset\n",
        "!wget https://archive.ics.uci.edu/static/public/2/adult.zip\n",
        "!unzip adult.zip"
      ]
    },
    {
      "cell_type": "code",
      "source": [
        "column_names = [\n",
        "    'age', 'workclass', 'fnlwgt', 'education', 'education-num', 'marital-status',\n",
        "    'occupation', 'relationship', 'race', 'sex', 'capital-gain', 'capital-loss',\n",
        "    'hours-per-week', 'native-country', 'income'\n",
        "]\n",
        "dataset = pd.read_csv(\"adult.data\" , names=column_names)"
      ],
      "metadata": {
        "id": "gL5GuPstY0hi"
      },
      "id": "gL5GuPstY0hi",
      "execution_count": null,
      "outputs": []
    },
    {
      "cell_type": "code",
      "source": [
        "dataset.income.unique()"
      ],
      "metadata": {
        "colab": {
          "base_uri": "https://localhost:8080/"
        },
        "id": "RBQatbPGkqt3",
        "outputId": "417b9095-12e8-4566-daff-ba40fba0a31a"
      },
      "id": "RBQatbPGkqt3",
      "execution_count": null,
      "outputs": [
        {
          "output_type": "execute_result",
          "data": {
            "text/plain": [
              "array([' <=50K', ' >50K'], dtype=object)"
            ]
          },
          "metadata": {},
          "execution_count": 33
        }
      ]
    },
    {
      "cell_type": "markdown",
      "id": "61d9f9e1",
      "metadata": {
        "id": "61d9f9e1"
      },
      "source": [
        "We use the preprocessing pipeline from [Grinsztajn, 2022](https://arxiv.org/pdf/2207.08815.pdf).\n",
        "\n",
        "**No missing data**    \n",
        "\n",
        "Remove all rows containing at least one missing entry.    \n",
        "\n",
        "*In practice people often do not remove rows with missing values but try to fill missing values in a column with the mean or median values for numerical data and mode or median values for categorical data. Sometimes even simple prediction models are used to fill in the gaps but we will remove rows or columns with missing values for the sake of simplicity. Sometimes, even the fact that data is missing could be data itself (think about patients who came or missed doctor appointment). In this case we are going with the most simple way to handle Nans - basically removing such entries.*\n",
        "\n",
        "**Balanced classes**   \n",
        "\n",
        "For classification, the target is binarised if there are multiple classes, by taking the two most numerous classes, and we keep half of samples in each class.\n",
        "\n",
        "**Low cardinality categorical features**   \n",
        "\n",
        "Remove categorical features with more than 40 items.\n",
        "\n",
        "**High cardinality numerical features**   \n",
        "\n",
        "Remove numerical features with less than 10 unique values. Convert numerical features with 2 unique values to categorical.\n",
        "\n",
        "**Encode categorical values**   \n",
        "\n",
        "Use label encodings for categorical variables\n",
        "\n",
        "*Hint:*\n",
        "* To make t easier to drop rows with nan values, merge $X$ and $Y$ in the same dataframe"
      ]
    },
    {
      "cell_type": "code",
      "execution_count": null,
      "id": "fAWW5kChD6MU",
      "metadata": {
        "id": "fAWW5kChD6MU"
      },
      "outputs": [],
      "source": [
        "target_column = 'income'\n",
        "test_size = 0.2\n",
        "random_state = 42"
      ]
    },
    {
      "cell_type": "code",
      "execution_count": null,
      "id": "3d77435f",
      "metadata": {
        "id": "3d77435f"
      },
      "outputs": [],
      "source": [
        "def remove_nans(df):\n",
        "    '''\n",
        "    this fucntion removes rows with nans\n",
        "    '''\n",
        "    df.dropna(inplace= True)\n",
        "    return df\n",
        "\n",
        "\n",
        "def numerical_to_categorical(df, n=2, ignore=[target_column]):\n",
        "    '''\n",
        "    change the type of the column to categorical\n",
        "    if it has <= n unique values\n",
        "    '''\n",
        "    for col in df.columns:\n",
        "      if col not in ignore and pd.api.types.is_numeric_dtype(df[col]):\n",
        "        if(df[col].nunique()<=n):\n",
        "          df[col] = df[col].astype('category')\n",
        "    return df\n",
        "\n",
        "\n",
        "def remove_columns_by_n(df, condition, n=10, direction='less',\n",
        "                        ignore=[target_column]):\n",
        "    '''\n",
        "\n",
        "    Remove columns with more or less than n unique values.\n",
        "    Usually it makes sense to apply this function to columns with categorical values (see below where it is called).\n",
        "    With the default values we remove all numerical columns which have less than 10 unique values (except for the target_column).\n",
        "    '''\n",
        "    columns_to_drop = []\n",
        "    for col in df.columns:\n",
        "      if col not in ignore and pd.api.types.is_numeric_dtype(df[col]):\n",
        "          unique_values = df[col].nunique()\n",
        "          if (direction == 'less' and unique_values < n) or (direction == 'more' and unique_values > n):\n",
        "              columns_to_drop.append(col)\n",
        "    df = df.drop(columns=columns_to_drop)\n",
        "    return df\n",
        "\n",
        "def object_to_categorical(df):\n",
        "    '''\n",
        "    Make columns with the 'object' type categorical\n",
        "    and replace categories with label encodings\n",
        "    '''\n",
        "    for col in df.select_dtypes(include=['object']).columns:\n",
        "      df[col] = df[col].astype('category')\n",
        "      df[col] = df[col].cat.codes\n",
        "    return df"
      ]
    },
    {
      "cell_type": "code",
      "execution_count": null,
      "id": "9033619f",
      "metadata": {
        "id": "9033619f"
      },
      "outputs": [],
      "source": [
        "df = dataset\n",
        "df = remove_nans(df)\n",
        "df = numerical_to_categorical(df, n=2, ignore=[target_column])\n",
        "\n",
        "df = remove_columns_by_n(df, n=10, direction='less',\n",
        "                         ignore=[target_column], condition=\"#TODO\")\n",
        "df = object_to_categorical(df)\n",
        "df = remove_columns_by_n(df, n=40, direction='more',\n",
        "                         ignore=[target_column], condition=\"#TODO\")\n",
        "assert not df.isna().any().any(), 'There are still nans in the dataframe'"
      ]
    },
    {
      "cell_type": "code",
      "execution_count": null,
      "id": "22348559",
      "metadata": {
        "id": "22348559"
      },
      "outputs": [],
      "source": [
        "# TODO : make train-test split from the dataframe using the parameters above\n",
        "# expected results variable names - train_X, test_X, train_y, test_y\n",
        "\n",
        "X = df.drop(target_column, axis=1)\n",
        "Y = df[target_column]\n",
        "\n",
        "train_X, test_X, train_y, test_y = train_test_split(X, Y, test_size=test_size, random_state=random_state,stratify=Y)"
      ]
    },
    {
      "cell_type": "code",
      "source": [
        "Y.value_counts()"
      ],
      "metadata": {
        "colab": {
          "base_uri": "https://localhost:8080/"
        },
        "id": "nEGHHpJqpyEU",
        "outputId": "d0c4e46c-68cf-47e9-9780-131cb5311753"
      },
      "id": "nEGHHpJqpyEU",
      "execution_count": null,
      "outputs": [
        {
          "output_type": "execute_result",
          "data": {
            "text/plain": [
              "income\n",
              "0    24720\n",
              "1     7841\n",
              "Name: count, dtype: int64"
            ]
          },
          "metadata": {},
          "execution_count": 54
        }
      ]
    },
    {
      "cell_type": "markdown",
      "id": "77f002d6",
      "metadata": {
        "id": "77f002d6"
      },
      "source": [
        "**TODO :**  \n",
        "\n",
        "* Did you split the dataset in a stratified manner or not? Why?\n",
        "* How did the dataset dimensions change after preprocessing?\n",
        "* How many unique values are in the target variable?"
      ]
    },
    {
      "cell_type": "markdown",
      "id": "f309f4d6",
      "metadata": {
        "id": "f309f4d6"
      },
      "source": [
        "## Task 1: Create a GradientBoostingClassifier"
      ]
    },
    {
      "cell_type": "code",
      "execution_count": null,
      "id": "cxbPa0evFrRF",
      "metadata": {
        "id": "cxbPa0evFrRF"
      },
      "outputs": [],
      "source": [
        "## TODO : define the GradientBoostingClassifier,\n",
        "## train it on the train set and predict on the test set\n",
        "\n",
        "gb = GradientBoostingClassifier(random_state=random_state)\n",
        "gb.fit(train_X, train_y)\n",
        "gb_pred = gb.predict(test_X)"
      ]
    },
    {
      "cell_type": "code",
      "execution_count": null,
      "id": "YZ5j6BMKFrcJ",
      "metadata": {
        "id": "YZ5j6BMKFrcJ",
        "colab": {
          "base_uri": "https://localhost:8080/"
        },
        "outputId": "1482a432-fc9e-4730-abc8-274be78eae30"
      },
      "outputs": [
        {
          "output_type": "stream",
          "name": "stdout",
          "text": [
            "Accuracy: 0.8321817902656226\n",
            "Precision: 0.696443341604632\n",
            "Recall: 0.5369897959183674\n"
          ]
        }
      ],
      "source": [
        "## TODO : print  accuracy, precision, recall\n",
        "## Hint : use functions from sklearn metrics\n",
        "\n",
        "print(f\"Accuracy: {accuracy_score(test_y, gb_pred)}\")\n",
        "print(f\"Precision: {precision_score(test_y, gb_pred)}\")\n",
        "print(f\"Recall: {recall_score(test_y, gb_pred)}\")"
      ]
    },
    {
      "cell_type": "code",
      "execution_count": null,
      "id": "598f0ffa",
      "metadata": {
        "id": "598f0ffa"
      },
      "outputs": [],
      "source": [
        "## TODO : Write a function which iterates over trees_amount,\n",
        "## train a classifier with a specified amount of trees and print accuracy, precision, and recall.\n",
        "## Note: the calculations may take several minutes (depending on the computer efficiency).\n",
        "\n",
        "def trees_amount_exploration(train_X, train_y, test_X, test_y, trees_amount=[1, 20, 50, 100]):\n",
        "  for trees in trees_amount:\n",
        "    gb = GradientBoostingClassifier(n_estimators=trees, random_state=random_state)\n",
        "    gb.fit(train_X, train_y)\n",
        "\n",
        "    gb_predictions = gb.predict(test_X)\n",
        "\n",
        "    print(f\"Number of Trees: {trees}\")\n",
        "    print(f\"Accuracy: {accuracy_score(test_y, gb_predictions)}\")\n",
        "    print(f\"Precision: {precision_score(test_y, gb_predictions)}\")\n",
        "    print(f\"Recall: {recall_score(test_y, gb_predictions)}\")\n",
        "    print(\"\\n\")\n"
      ]
    },
    {
      "cell_type": "code",
      "execution_count": null,
      "id": "qcnxg4InEkRl",
      "metadata": {
        "id": "qcnxg4InEkRl",
        "colab": {
          "base_uri": "https://localhost:8080/"
        },
        "outputId": "1e326aa4-086e-48df-99ba-57403cae6dc1"
      },
      "outputs": [
        {
          "output_type": "stream",
          "name": "stdout",
          "text": [
            "Number of Trees: 1\n",
            "Accuracy: 0.7592507293106096\n",
            "Precision: 0.0\n",
            "Recall: 0.0\n",
            "\n",
            "\n"
          ]
        },
        {
          "output_type": "stream",
          "name": "stderr",
          "text": [
            "/usr/local/lib/python3.10/dist-packages/sklearn/metrics/_classification.py:1344: UndefinedMetricWarning: Precision is ill-defined and being set to 0.0 due to no predicted samples. Use `zero_division` parameter to control this behavior.\n",
            "  _warn_prf(average, modifier, msg_start, len(result))\n"
          ]
        },
        {
          "output_type": "stream",
          "name": "stdout",
          "text": [
            "Number of Trees: 20\n",
            "Accuracy: 0.8198986642100414\n",
            "Precision: 0.7236693091732729\n",
            "Recall: 0.4075255102040816\n",
            "\n",
            "\n",
            "Number of Trees: 50\n",
            "Accuracy: 0.8288039306003377\n",
            "Precision: 0.7134778510838832\n",
            "Recall: 0.48278061224489793\n",
            "\n",
            "\n",
            "Number of Trees: 100\n",
            "Accuracy: 0.8321817902656226\n",
            "Precision: 0.696443341604632\n",
            "Recall: 0.5369897959183674\n",
            "\n",
            "\n"
          ]
        }
      ],
      "source": [
        "trees_amount_exploration(train_X, train_y, test_X, test_y)"
      ]
    },
    {
      "cell_type": "code",
      "execution_count": null,
      "id": "518fc198",
      "metadata": {
        "id": "518fc198"
      },
      "outputs": [],
      "source": [
        "## TODO : Write a function which iterates over the learning rate,\n",
        "## train a classifier with a specified amount of trees and print accuracy, precision, and recall.\n",
        "## Note: the calculations may take several minutes (depending on the computer efficiency).\n",
        "\n",
        "def learning_rate_exploration(train_X, train_y, test_X, test_y, learning_rates = [0.1, 0.2, 0.3, 0.4, 0.5], trees_amount=100):\n",
        "  for rate in learning_rates:\n",
        "    gb = GradientBoostingClassifier(learning_rate=rate, n_estimators=trees_amount, random_state=random_state)\n",
        "    gb.fit(train_X, train_y)\n",
        "\n",
        "    gb_predictions = gb.predict(test_X)\n",
        "\n",
        "    print(f\"Learning Rate: {rate}\")\n",
        "    print(f\"Accuracy: {accuracy_score(test_y, gb_predictions)}\")\n",
        "    print(f\"Precision: {precision_score(test_y, gb_predictions)}\")\n",
        "    print(f\"Recall: {recall_score(test_y, gb_predictions)}\")\n",
        "    print(\"\\n\")\n",
        "\n"
      ]
    },
    {
      "cell_type": "code",
      "execution_count": null,
      "id": "afb2ae07",
      "metadata": {
        "colab": {
          "base_uri": "https://localhost:8080/"
        },
        "id": "afb2ae07",
        "outputId": "2d655d35-f7d3-48a4-e69c-0bf803943a88"
      },
      "outputs": [
        {
          "output_type": "stream",
          "name": "stdout",
          "text": [
            "Learning Rate: 0.1\n",
            "Accuracy: 0.8321817902656226\n",
            "Precision: 0.696443341604632\n",
            "Recall: 0.5369897959183674\n",
            "\n",
            "\n",
            "Learning Rate: 0.2\n",
            "Accuracy: 0.8315676339628435\n",
            "Precision: 0.7011101622544833\n",
            "Recall: 0.5235969387755102\n",
            "\n",
            "\n",
            "Learning Rate: 0.3\n",
            "Accuracy: 0.8321817902656226\n",
            "Precision: 0.6970954356846473\n",
            "Recall: 0.5357142857142857\n",
            "\n",
            "\n",
            "Learning Rate: 0.4\n",
            "Accuracy: 0.8331030247197911\n",
            "Precision: 0.7022708158116064\n",
            "Recall: 0.5325255102040817\n",
            "\n",
            "\n",
            "Learning Rate: 0.5\n",
            "Accuracy: 0.8334101028711807\n",
            "Precision: 0.6955465587044535\n",
            "Recall: 0.5478316326530612\n",
            "\n",
            "\n"
          ]
        }
      ],
      "source": [
        "learning_rate_exploration(train_X, train_y, test_X, test_y)"
      ]
    },
    {
      "cell_type": "code",
      "execution_count": null,
      "id": "T-akqJfbEkVF",
      "metadata": {
        "id": "T-akqJfbEkVF"
      },
      "outputs": [],
      "source": [
        "## TODO : Write a function which iterates over different depths,\n",
        "## train a classifier with a specified depth and print accuracy, precision, and recall\n",
        "## Set trees_amount= 50 to make the calculations faster\n",
        "## Note: the calculations may take several minutes (depending on the computer efficiency).\n",
        "\n",
        "def max_depth_exploration(train_X, train_y, test_X, test_y, depths=[1,2,3,5]):\n",
        "  for depth in depths:\n",
        "    gb = GradientBoostingClassifier(max_depth=depth, n_estimators=50, random_state=random_state)\n",
        "    gb.fit(train_X, train_y)\n",
        "\n",
        "    gb_predictions = gb.predict(test_X)\n",
        "\n",
        "    print(f\"Max Depth: {depth}\")\n",
        "    print(f\"Accuracy: {accuracy_score(test_y, gb_predictions)}\")\n",
        "    print(f\"Precision: {precision_score(test_y, gb_predictions)}\")\n",
        "    print(f\"Recall: {recall_score(test_y, gb_predictions)}\")\n",
        "    print(\"\\n\")"
      ]
    },
    {
      "cell_type": "code",
      "execution_count": null,
      "id": "3oFAnFOnEkdX",
      "metadata": {
        "id": "3oFAnFOnEkdX",
        "colab": {
          "base_uri": "https://localhost:8080/"
        },
        "outputId": "d958e81d-6275-452c-f26d-44ef067dc042"
      },
      "outputs": [
        {
          "output_type": "stream",
          "name": "stdout",
          "text": [
            "Max Depth: 1\n",
            "Accuracy: 0.8198986642100414\n",
            "Precision: 0.7236693091732729\n",
            "Recall: 0.4075255102040816\n",
            "\n",
            "\n",
            "Max Depth: 2\n",
            "Accuracy: 0.822201750345463\n",
            "Precision: 0.7242888402625821\n",
            "Recall: 0.4221938775510204\n",
            "\n",
            "\n",
            "Max Depth: 3\n",
            "Accuracy: 0.8288039306003377\n",
            "Precision: 0.7134778510838832\n",
            "Recall: 0.48278061224489793\n",
            "\n",
            "\n",
            "Max Depth: 5\n",
            "Accuracy: 0.8314140948871488\n",
            "Precision: 0.6958333333333333\n",
            "Recall: 0.5325255102040817\n",
            "\n",
            "\n"
          ]
        }
      ],
      "source": [
        "max_depth_exploration(train_X, train_y, test_X, test_y)"
      ]
    },
    {
      "cell_type": "markdown",
      "id": "75fc86d1",
      "metadata": {
        "id": "75fc86d1"
      },
      "source": [
        "**TODO :**   \n",
        "\n",
        "* How does the max_depth parameter influence the results?\n",
        "* How does the learning rate influence the results?\n",
        "* How does the number of trees in the ensemble influence the results?\n",
        "* Try to improve the accuracy by combining different max_depth, learning rate and number of trees. How well does your best model perform?"
      ]
    },
    {
      "cell_type": "code",
      "execution_count": null,
      "id": "aa0c330e",
      "metadata": {
        "id": "aa0c330e"
      },
      "outputs": [],
      "source": [
        "## TODO -  sklearn trees have the attribute feature_importances_\n",
        "## make a plot, to show relative importance (maximum is 1) of your classifier and\n",
        "## order features from most relevant feature to the least relevant in the plot\n",
        "\n",
        "def plot_explained_variance(clf, X):\n",
        "  feature_importance = clf.feature_importances_\n",
        "  print(feature_importance)\n",
        "  sorted_indices = feature_importance.argsort()[::-1]  # Sort indices in descending order\n",
        "  sorted_importance = feature_importance[sorted_indices]\n",
        "  print(sorted_indices)\n",
        "  sorted_columns = X.columns[sorted_indices]\n",
        "\n",
        "  plt.figure(figsize=(10, 6))\n",
        "  plt.bar(range(len(sorted_importance)), sorted_importance)\n",
        "  plt.xticks(range(len(sorted_importance)), sorted_columns, rotation=90)\n",
        "  plt.xlabel('Feature_Name')\n",
        "  plt.ylabel('Relative Importance')\n",
        "  plt.title('Relative Importance of Features')\n",
        "  plt.tight_layout()\n",
        "  plt.show()\n"
      ]
    },
    {
      "cell_type": "code",
      "execution_count": null,
      "id": "6cf90239",
      "metadata": {
        "id": "6cf90239",
        "colab": {
          "base_uri": "https://localhost:8080/",
          "height": 659
        },
        "outputId": "26d5ac8c-7c1f-4b57-84f3-254dbc769cf0"
      },
      "outputs": [
        {
          "output_type": "stream",
          "name": "stdout",
          "text": [
            "[0.01819647 0.0020318  0.34079012 0.04976496 0.06697788 0.51206883\n",
            " 0.00227525 0.00789468]\n",
            "[5 2 4 3 0 7 6 1]\n"
          ]
        },
        {
          "output_type": "display_data",
          "data": {
            "text/plain": [
              "<Figure size 1000x600 with 1 Axes>"
            ],
            "image/png": "[encoded data removed]"
          },
          "metadata": {}
        }
      ],
      "source": [
        "## TODO : display the plot\n",
        "plot_explained_variance(gb, train_X)"
      ]
    },
    {
      "cell_type": "markdown",
      "id": "2e0872d8",
      "metadata": {
        "id": "2e0872d8"
      },
      "source": [
        "**TODO :** Interpret the plot.\n",
        "\n",
        "**TODO (optional):** Try to remove the least-important features and see what happens. Does to quality improve or degrade? Why?"
      ]
    },
    {
      "cell_type": "markdown",
      "id": "94d40f1b",
      "metadata": {
        "id": "94d40f1b"
      },
      "source": [
        "## [OPTIONAL] Implement Tree from scratch\n"
      ]
    },
    {
      "cell_type": "code",
      "execution_count": null,
      "id": "dee4eeef",
      "metadata": {
        "id": "dee4eeef"
      },
      "outputs": [],
      "source": [
        "n_samples = 100000 # our implementation took ~1 min with this amount of samples, you can reduce the number if neccessary\n",
        "X_train, X_test, y_train, y_test = train_X.to_numpy()[:n_samples], test_X.to_numpy(), train_y.to_numpy()[:n_samples], test_y.to_numpy()\n"
      ]
    },
    {
      "cell_type": "markdown",
      "id": "805f74cc",
      "metadata": {
        "id": "805f74cc"
      },
      "source": [
        "Next, we will implement a simple decision tree classifier ourselves.\n",
        "We will use the Gini impurity as a criterion for splitting. It is defined for a set of labels as\n",
        "$$ G = \\sum_{i=0}^C p(i) * (1- p(i)) $$\n",
        "\n",
        "Given labels $l$ and split in $l_a$ and $l_b$, the weighted removed impurity can be computed by $G(l) - \\frac{|l_a|}{|l|}G(l_a) - \\frac{|l_b|}{|l|}G(l_b)$.\n",
        "\n",
        "Here is a simple explanation of the Gini impurity that you may find useful: https://victorzhou.com/blog/gini-impurity/\n",
        "\n",
        "\n",
        "### Task 2.1\n",
        "\n",
        "1. Implement a function `gini_impurity(y)` that computes the Gini impurity for an array of labels `y`.\n",
        "2. Implement a function `weighted_difference(y, split)`, that calculates the removed Gini impurity for a given boolean array `split` and `y`.\n",
        "3. Implement a function `find_best_split`, that performs an exhaustive search over all possible splits, i.e. for all features in x and all values of these features.\n",
        "\n",
        "Note: We have converted the training data to numpy above. Please use these arrays for the task. During debugging, it might be a good idea to reduce the number of data points via the n_samples argument above to speed up computations."
      ]
    },
    {
      "cell_type": "code",
      "execution_count": null,
      "id": "b28e04c9",
      "metadata": {
        "id": "b28e04c9"
      },
      "outputs": [],
      "source": [
        "# TODO: Implement the functions gini_impurity and weighted_difference\n",
        "\n",
        "def gini_impurity(y, labels=(0, 1)):\n",
        "    pass\n",
        "\n",
        "def weighted_difference(y, split, labels=(0, 1)):\n",
        "    pass"
      ]
    },
    {
      "cell_type": "code",
      "execution_count": null,
      "id": "29844df1",
      "metadata": {
        "id": "29844df1"
      },
      "outputs": [],
      "source": [
        "# example application\n",
        "print(gini_impurity(y_train, labels=(0, 1)))\n",
        "\n",
        "split = X_train[:,0] < 40\n",
        "print(weighted_difference(y_train, split))\n"
      ]
    },
    {
      "cell_type": "code",
      "execution_count": null,
      "id": "f06029fb",
      "metadata": {
        "id": "f06029fb"
      },
      "outputs": [],
      "source": [
        "# TODO: Implement the function find_best_split\n",
        "def exhaustive_search(x, y):\n",
        "    pass\n",
        "\n",
        "def find_best_split(impurities_array, midpoints_array, features_array, verbose=False):\n",
        "    pass"
      ]
    },
    {
      "cell_type": "code",
      "execution_count": null,
      "id": "b6042fd2",
      "metadata": {
        "id": "b6042fd2"
      },
      "outputs": [],
      "source": [
        "# plotting functionality, works only if you have computed midpoints_array, impurities_array, features_array\n",
        "fig, ax = plt.subplots(4, 4, figsize=(14, 10), squeeze=False)\n",
        "ax = ax.flatten()\n",
        "\n",
        "for i in range(14):\n",
        "    select_feature = features_array == i\n",
        "    impurities_feature = impurities_array[select_feature]\n",
        "    midpoints_feature = midpoints_array[select_feature]\n",
        "\n",
        "    if i < len(ax):\n",
        "        ax[i].scatter(midpoints_feature, impurities_feature, s=4)\n",
        "        ax[i].set_title(f'Feature {i}')\n",
        "    ax[i].set_xlabel('Split Value')\n",
        "    ax[i].set_ylabel('Impurity Reduction')\n",
        "\n",
        "# Hide unused axes if any\n",
        "for j in range(i + 1, len(ax)):\n",
        "    ax[j].axis('off')\n",
        "\n",
        "plt.tight_layout()\n",
        "plt.show()"
      ]
    },
    {
      "cell_type": "markdown",
      "id": "d6b770a7",
      "metadata": {
        "id": "d6b770a7"
      },
      "source": [
        "### Task 2.3\n",
        "\n",
        "1. Implement a function `build_tree(X, t, depth)` which recursively builds a tree. Use the classes `Node` and `Leaf` as a data structure to build your tree.\n",
        "2. Implement a function `predict_tree(tree, x)` which makes a prediction for sample `x`. Obtain scores for the `wine` dataset and compare to `sklearn.tree.DecisionTree`.\n"
      ]
    },
    {
      "cell_type": "code",
      "execution_count": null,
      "id": "81924410",
      "metadata": {
        "id": "81924410"
      },
      "outputs": [],
      "source": [
        "class Node:\n",
        "    def __init__(self, left, right, n_feat, threshold):\n",
        "        self.left = left\n",
        "        self.right = right\n",
        "        self.n_feat = n_feat\n",
        "        self.threshold = threshold\n",
        "\n",
        "\n",
        "class Leaf:\n",
        "    def __init__(self, label):\n",
        "        self.label = label"
      ]
    },
    {
      "cell_type": "code",
      "execution_count": null,
      "id": "1ef87849",
      "metadata": {
        "id": "1ef87849"
      },
      "outputs": [],
      "source": [
        "# TODO: implement the function build_tree and predict_tree\n",
        "\n",
        "# Implement recursive tree function\n",
        "def build_tree(x, y, current_depth, max_depth=3, n_labels=2):\n",
        "    pass\n",
        "\n",
        "\n",
        "def predict_tree(node, x):\n",
        "    pass"
      ]
    },
    {
      "cell_type": "code",
      "execution_count": null,
      "id": "547ca58c",
      "metadata": {
        "id": "547ca58c"
      },
      "outputs": [],
      "source": [
        "# Build tree\n",
        "tree = build_tree(X_train, y_train, current_depth=0, max_depth=3, n_labels=2)\n",
        "predictions = predict_tree(tree, X_test)\n",
        "predictions"
      ]
    },
    {
      "cell_type": "code",
      "execution_count": null,
      "id": "d6da6847",
      "metadata": {
        "id": "d6da6847"
      },
      "outputs": [],
      "source": [
        "# Calculate training and test scores\n",
        "print('Accuracy Training: ', accuracy_score(y_train, predict_tree(tree, X_train)))\n",
        "print('Accuracy: ', accuracy_score(test_y, predictions))\n",
        "print('Precision: ', precision_score(test_y, predictions, average='macro'))\n",
        "print('Recall: ', recall_score(test_y, predictions, average='macro'))"
      ]
    },
    {
      "cell_type": "markdown",
      "id": "jhE75y_UN7Qx",
      "metadata": {
        "id": "jhE75y_UN7Qx"
      },
      "source": [
        "## Prepare for deep learning\n",
        "### Add all the necessary training functions\n",
        "*You can reuse them from previous practical exercises*"
      ]
    },
    {
      "cell_type": "code",
      "execution_count": null,
      "id": "LfDLPO2QODES",
      "metadata": {
        "id": "LfDLPO2QODES"
      },
      "outputs": [],
      "source": [
        "## TODO write a function that calculates the accuracy\n",
        "## Hint - you can use yours from practical 3\n",
        "\n",
        "def accuracy(correct, total):\n",
        "    \"\"\"\n",
        "    function to calculate the accuracy given the\n",
        "        correct: number of correctly classified samples\n",
        "        total: total number of samples\n",
        "    returns the ratio\n",
        "    \"\"\"\n",
        "    if total == 0:\n",
        "        return 0\n",
        "    else:\n",
        "        return correct / total"
      ]
    },
    {
      "cell_type": "code",
      "execution_count": null,
      "id": "EVe7SFnrODHP",
      "metadata": {
        "id": "EVe7SFnrODHP"
      },
      "outputs": [],
      "source": [
        "## TODO : Define a train and validation functions here\n",
        "## Hint - you can use yours from practical 3\n",
        "\n",
        "def train(dataloader, optimizer, model, loss_fn, device, master_bar):\n",
        "    \"\"\" method to train the model \"\"\"\n",
        "    model.train()\n",
        "    t_loss = 0\n",
        "    correct = 0\n",
        "    total = 0\n",
        "    for data, labels in dataloader:\n",
        "      data, labels = data.to(device), labels.to(device)\n",
        "      outputs = model(data)\n",
        "      loss = loss_fn(outputs, labels)\n",
        "      optimizer.zero_grad()\n",
        "      loss.backward()\n",
        "      optimizer.step()\n",
        "      t_loss += loss.item()\n",
        "\n",
        "      # Compute accuracy\n",
        "      _, predicted = torch.max(outputs.data, 1)\n",
        "      total += labels.size(0)\n",
        "      correct += (predicted == labels).sum().item()\n",
        "    return t_loss / len(dataloader) , accuracy(correct, total)\n",
        "\n",
        "\n",
        "def validate(dataloader, model, loss_fn, device, master_bar):\n",
        "    \"\"\" method to compute the metrics on the validation set \"\"\"\n",
        "    model.eval()\n",
        "    t_loss = 0\n",
        "    correct = 0\n",
        "    total = 0\n",
        "    with torch.no_grad():\n",
        "        for data, labels in dataloader:\n",
        "            data, labels = data.to(device), labels.to(device)\n",
        "            outputs = model(data)\n",
        "            loss = loss_fn(outputs, labels)\n",
        "            t_loss += loss.item()\n",
        "            _, predicted = torch.max(outputs.data, 1)\n",
        "            total += labels.size(0)\n",
        "            correct += (predicted == labels).sum().item()\n",
        "    return t_loss / len(dataloader) , accuracy(correct, total)"
      ]
    },
    {
      "cell_type": "code",
      "execution_count": null,
      "id": "pzGM0bPqxw3V",
      "metadata": {
        "id": "pzGM0bPqxw3V"
      },
      "outputs": [],
      "source": [
        "#TODO write a run_training function that\n",
        "# - calls the train and validate functions for each epoch\n",
        "# - saves the train_losses, val_losses, train_accs, val_accs as arrays for each epoch\n",
        "## Hint - you can use yours from practical 3\n",
        "from tqdm import trange\n",
        "\n",
        "\n",
        "def run_training(model, optimizer, loss_function, device, num_epochs, train_dataloader, val_dataloader):\n",
        "    \"\"\" method to run the training procedure \"\"\"\n",
        "    train_losses = []\n",
        "    val_losses = []\n",
        "    train_accs = []\n",
        "    val_accs = []\n",
        "    master_bar = trange(num_epochs, desc='Epochs')\n",
        "    for epoch in master_bar:\n",
        "        # Train the model\n",
        "\n",
        "        train_loss, train_acc = train(train_dataloader, optimizer, model, loss_function, device,master_bar)\n",
        "        train_losses.append(train_loss)\n",
        "        train_accs.append(train_acc)\n",
        "\n",
        "        # Validate the model\n",
        "        val_loss, val_acc = validate(val_dataloader, model, loss_function, device,master_bar)\n",
        "        val_losses.append(val_loss)\n",
        "        val_accs.append(val_acc)\n",
        "\n",
        "        # master_bar.set_postfix(train_loss=train_loss, val_loss=val_loss, train_acc=train_acc, val_acc=val_acc)\n",
        "        print(f\" Train Loss: {train_loss:.4f}, Train Acc: {train_acc:.4f}, Val Loss: {val_loss:.4f}, Val Acc: {val_acc:.4f}\")\n",
        "\n",
        "\n",
        "    return train_losses, val_losses, train_accs, val_accs"
      ]
    },
    {
      "cell_type": "code",
      "execution_count": null,
      "id": "ngflrAEJxw5t",
      "metadata": {
        "id": "ngflrAEJxw5t"
      },
      "outputs": [],
      "source": [
        "# TODO write a plot_model_progress function\n",
        "## It should plot epochs vs metric progress\n",
        "## Hint - you can use yours from practical 2 or 3\n",
        "\n",
        "def plot_model_progress(all_models, metric_progress):\n",
        "  if(metric_progress == \"acc\"):\n",
        "    print(\"Here\")\n",
        "    i,j = 2,3\n",
        "    ls = \"--\"\n",
        "  else:\n",
        "    i,j = 0,1\n",
        "    ls = None\n",
        "  for model,values in all_models.items():\n",
        "    # print(values[0])\n",
        "    sns.lineplot(x=range(1, len(values[0])+1), y=values[i], label=f'{str(metric_progress)} (LR={str(model)})', linestyle=ls, marker='o',legend = False)\n",
        "    sns.lineplot(x=range(1, len(values[0])+1), y=values[j], label=f'{str(metric_progress)} (LR={str(model)})', linestyle=ls, marker='o',legend = False)\n",
        "\n",
        "  plt.legend(loc='upper right', prop={'size': 4})\n",
        "  # plt.ylim(0, 2500)\n",
        "  # plt.yscale(\"log\")\n",
        "  plt.xlabel(\"Epoch\")\n",
        "  plt.ylabel(str(metric_progress))\n",
        "  plt.title(f'Epoch vs. {str(metric_progress)}')\n",
        "  plt.show()\n",
        "\n",
        "all_models = {}"
      ]
    },
    {
      "cell_type": "markdown",
      "id": "9iqaRi2xRADg",
      "metadata": {
        "id": "9iqaRi2xRADg"
      },
      "source": [
        "### Convert a pandas dataframe to a PyTorch dataset"
      ]
    },
    {
      "cell_type": "code",
      "execution_count": null,
      "id": "e3dcbc2c",
      "metadata": {
        "id": "e3dcbc2c"
      },
      "outputs": [],
      "source": [
        "## TODO : Define the dataset, apply normalization in the getitem method\n",
        "## Hint : you can use/adapt your code from practical 2\n",
        "class TabularDataset(torch.utils.data.Dataset):\n",
        "    def __init__(self, df_x, df_y, mean=None, std=None, normalise=True):\n",
        "        '''\n",
        "        TODO: save params to self attributes,\n",
        "        x is data without target column\n",
        "        y is target column\n",
        "        transform df to_numpy\n",
        "        '''\n",
        "        self.x = df_x.to_numpy()\n",
        "        self.y = df_y.to_numpy().astype(int)\n",
        "        self.mean = mean\n",
        "        self.std = std\n",
        "        self.normalise = normalise\n",
        "\n",
        "        if self.normalise:\n",
        "            if self.mean is None or self.std is None:\n",
        "                self.mean = self.x.mean(axis=0)\n",
        "                self.std = self.x.std(axis=0)\n",
        "\n",
        "    def __len__(self):\n",
        "        # TODO: return the length of the whole dataset\n",
        "        return len(self.x)\n",
        "\n",
        "    def __getitem__(self, index):\n",
        "        ## TODO: return X, y by index, normalized if needed\n",
        "        sample = self.x[index]\n",
        "        label = self.y[index] - self.y.min()\n",
        "\n",
        "        if self.normalise:\n",
        "            sample = (sample - self.mean) / self.std\n",
        "\n",
        "        return sample, label"
      ]
    },
    {
      "cell_type": "code",
      "execution_count": null,
      "id": "3jJXxpF-KIpz",
      "metadata": {
        "id": "3jJXxpF-KIpz",
        "colab": {
          "base_uri": "https://localhost:8080/"
        },
        "outputId": "772d887a-d544-4950-9968-f05b131527df"
      },
      "outputs": [
        {
          "output_type": "stream",
          "name": "stdout",
          "text": [
            "Mean:\n",
            "[ 3.86893428 10.29587684 10.07966063  2.61117936  6.58564957  1.4379223\n",
            "  3.66911087  0.66934122]\n",
            "\n",
            "Standard Deviation:\n",
            "[1.46061287 3.86505857 2.58313628 1.50854986 4.2234179  1.60192725\n",
            " 0.84459427 0.47045037]\n"
          ]
        }
      ],
      "source": [
        "## TODO : calculate mean and std for the train set\n",
        "## Hint : be careful with categorical values. Convert them them to numerical\n",
        "## Hint : the response variable should be of datatype integer\n",
        "\n",
        "tmp_dataset = TabularDataset(train_X, train_y, normalise=False)\n",
        "\n",
        "data = tmp_dataset.x\n",
        "x_mean = np.mean(data, axis=0)\n",
        "x_std = np.std(data, axis=0)\n",
        "\n",
        "print(\"Mean:\")\n",
        "print(x_mean)\n",
        "print(\"\\nStandard Deviation:\")\n",
        "print(x_std)\n"
      ]
    },
    {
      "cell_type": "code",
      "execution_count": null,
      "id": "Ef6dNkihxzYd",
      "metadata": {
        "id": "Ef6dNkihxzYd"
      },
      "outputs": [],
      "source": [
        "# TODO : define new datasets with mean, std and normalise=True\n",
        "# be careful with the labels, they should start from 0!\n",
        "conductor_train = TabularDataset(train_X, train_y, mean=x_mean, std=x_std, normalise=True)\n",
        "conductor_test = TabularDataset(test_X, test_y, mean=x_mean, std=x_std, normalise=True)\n",
        "\n",
        "\n",
        "## TODO : define dataloaders, with specified batch size and shuffled\n",
        "batch_size = 256\n",
        "train_loader = DataLoader(conductor_train, batch_size=batch_size, shuffle=True)\n",
        "test_loader = DataLoader(conductor_test, batch_size=batch_size, shuffle=False)"
      ]
    },
    {
      "cell_type": "markdown",
      "id": "N28MlXQ7ON1j",
      "metadata": {
        "id": "N28MlXQ7ON1j"
      },
      "source": [
        "## Logistic regression"
      ]
    },
    {
      "cell_type": "code",
      "execution_count": null,
      "id": "NT-EtgZKOLb0",
      "metadata": {
        "id": "NT-EtgZKOLb0"
      },
      "outputs": [],
      "source": [
        "class LR(torch.nn.Module):\n",
        "    \"\"\"\n",
        "    The logistic regression model inherits from torch.nn.Module\n",
        "    which is the base class for all neural network modules.\n",
        "    \"\"\"\n",
        "    def __init__(self, input_dim, output_dim):\n",
        "        \"\"\" Initializes internal Module state. \"\"\"\n",
        "        super(LR, self).__init__()\n",
        "        # TODO define linear layer for the model\n",
        "        self.flatten = nn.Flatten(1)\n",
        "        self.linear =  nn.Linear(input_dim, output_dim)\n",
        "\n",
        "    def forward(self, x):\n",
        "        \"\"\" Defines the computation performed at every call. \"\"\"\n",
        "        # What are the dimensions of your input layer?\n",
        "        x = x.to(torch.float32)\n",
        "        # TODO run the data through the layer\n",
        "        x = self.flatten(x)\n",
        "        outputs = self.linear(x)\n",
        "        return outputs"
      ]
    },
    {
      "cell_type": "code",
      "source": [
        "\n",
        "train_dataloader_iter = iter(train_loader)\n",
        "\n",
        "data, labels = next(train_dataloader_iter)\n",
        "# TODO print the dimensions of for elements from the previous step\n",
        "print(data.shape)\n",
        "print(labels.shape)"
      ],
      "metadata": {
        "colab": {
          "base_uri": "https://localhost:8080/"
        },
        "id": "XArN5Eon4nA_",
        "outputId": "fbcbfb31-50cd-448c-ce3b-c1cb67665d04"
      },
      "id": "XArN5Eon4nA_",
      "execution_count": null,
      "outputs": [
        {
          "output_type": "stream",
          "name": "stdout",
          "text": [
            "torch.Size([256, 8])\n",
            "torch.Size([256])\n"
          ]
        }
      ]
    },
    {
      "cell_type": "code",
      "execution_count": null,
      "id": "eWDd_hYGOZSj",
      "metadata": {
        "id": "eWDd_hYGOZSj",
        "colab": {
          "base_uri": "https://localhost:8080/"
        },
        "outputId": "b2a354fb-4edc-43e4-aa04-b6e2fb611a97"
      },
      "outputs": [
        {
          "output_type": "execute_result",
          "data": {
            "text/plain": [
              "LR(\n",
              "  (flatten): Flatten(start_dim=1, end_dim=-1)\n",
              "  (linear): Linear(in_features=8, out_features=2, bias=True)\n",
              ")"
            ]
          },
          "metadata": {},
          "execution_count": 208
        }
      ],
      "source": [
        "## TODO define model, loss and optimizers\n",
        "## don't forget to move everything for the correct devices\n",
        "##\n",
        "lr=0.001\n",
        "n_inputs = 8\n",
        "n_outputs = 2 # number of classes\n",
        "lr_model = LR(n_inputs, n_outputs)\n",
        "optimizer = torch.optim.Adam(lr_model.parameters(), lr=0.001)\n",
        "loss_fn = torch.nn.CrossEntropyLoss()\n",
        "lr_model.to(device)\n",
        "\n",
        "\n",
        "\n"
      ]
    },
    {
      "cell_type": "code",
      "execution_count": null,
      "id": "6EFwKn-iOgNv",
      "metadata": {
        "id": "6EFwKn-iOgNv",
        "colab": {
          "base_uri": "https://localhost:8080/"
        },
        "outputId": "d3bda661-16a8-4c77-f68b-cfdf9842d521"
      },
      "outputs": [
        {
          "output_type": "stream",
          "name": "stderr",
          "text": [
            "Epochs:   3%|▎         | 1/30 [00:01<00:33,  1.17s/it]"
          ]
        },
        {
          "output_type": "stream",
          "name": "stdout",
          "text": [
            " Train Loss: 0.7590, Train Acc: 0.5083, Val Loss: 0.6965, Val Acc: 0.5752\n"
          ]
        },
        {
          "output_type": "stream",
          "name": "stderr",
          "text": [
            "\rEpochs:   7%|▋         | 2/30 [00:02<00:32,  1.18s/it]"
          ]
        },
        {
          "output_type": "stream",
          "name": "stdout",
          "text": [
            " Train Loss: 0.6585, Train Acc: 0.6189, Val Loss: 0.6187, Val Acc: 0.6742\n"
          ]
        },
        {
          "output_type": "stream",
          "name": "stderr",
          "text": [
            "\rEpochs:  10%|█         | 3/30 [00:03<00:28,  1.07s/it]"
          ]
        },
        {
          "output_type": "stream",
          "name": "stdout",
          "text": [
            " Train Loss: 0.5944, Train Acc: 0.6979, Val Loss: 0.5669, Val Acc: 0.7275\n"
          ]
        },
        {
          "output_type": "stream",
          "name": "stderr",
          "text": [
            "\rEpochs:  13%|█▎        | 4/30 [00:04<00:24,  1.06it/s]"
          ]
        },
        {
          "output_type": "stream",
          "name": "stdout",
          "text": [
            " Train Loss: 0.5506, Train Acc: 0.7412, Val Loss: 0.5306, Val Acc: 0.7645\n"
          ]
        },
        {
          "output_type": "stream",
          "name": "stderr",
          "text": [
            "\rEpochs:  17%|█▋        | 5/30 [00:04<00:21,  1.16it/s]"
          ]
        },
        {
          "output_type": "stream",
          "name": "stdout",
          "text": [
            " Train Loss: 0.5197, Train Acc: 0.7808, Val Loss: 0.5050, Val Acc: 0.7872\n"
          ]
        },
        {
          "output_type": "stream",
          "name": "stderr",
          "text": [
            "\rEpochs:  20%|██        | 6/30 [00:05<00:19,  1.22it/s]"
          ]
        },
        {
          "output_type": "stream",
          "name": "stdout",
          "text": [
            " Train Loss: 0.4976, Train Acc: 0.7959, Val Loss: 0.4866, Val Acc: 0.7993\n"
          ]
        },
        {
          "output_type": "stream",
          "name": "stderr",
          "text": [
            "\rEpochs:  23%|██▎       | 7/30 [00:06<00:18,  1.28it/s]"
          ]
        },
        {
          "output_type": "stream",
          "name": "stdout",
          "text": [
            " Train Loss: 0.4818, Train Acc: 0.8021, Val Loss: 0.4733, Val Acc: 0.8039\n"
          ]
        },
        {
          "output_type": "stream",
          "name": "stderr",
          "text": [
            "\rEpochs:  27%|██▋       | 8/30 [00:06<00:16,  1.31it/s]"
          ]
        },
        {
          "output_type": "stream",
          "name": "stdout",
          "text": [
            " Train Loss: 0.4705, Train Acc: 0.8052, Val Loss: 0.4638, Val Acc: 0.8065\n"
          ]
        },
        {
          "output_type": "stream",
          "name": "stderr",
          "text": [
            "\rEpochs:  30%|███       | 9/30 [00:07<00:15,  1.33it/s]"
          ]
        },
        {
          "output_type": "stream",
          "name": "stdout",
          "text": [
            " Train Loss: 0.4622, Train Acc: 0.8061, Val Loss: 0.4569, Val Acc: 0.8065\n"
          ]
        },
        {
          "output_type": "stream",
          "name": "stderr",
          "text": [
            "\rEpochs:  33%|███▎      | 10/30 [00:08<00:15,  1.33it/s]"
          ]
        },
        {
          "output_type": "stream",
          "name": "stdout",
          "text": [
            " Train Loss: 0.4564, Train Acc: 0.8071, Val Loss: 0.4519, Val Acc: 0.8065\n"
          ]
        },
        {
          "output_type": "stream",
          "name": "stderr",
          "text": [
            "\rEpochs:  37%|███▋      | 11/30 [00:09<00:14,  1.34it/s]"
          ]
        },
        {
          "output_type": "stream",
          "name": "stdout",
          "text": [
            " Train Loss: 0.4521, Train Acc: 0.8072, Val Loss: 0.4482, Val Acc: 0.8070\n"
          ]
        },
        {
          "output_type": "stream",
          "name": "stderr",
          "text": [
            "\rEpochs:  40%|████      | 12/30 [00:09<00:13,  1.35it/s]"
          ]
        },
        {
          "output_type": "stream",
          "name": "stdout",
          "text": [
            " Train Loss: 0.4490, Train Acc: 0.8074, Val Loss: 0.4456, Val Acc: 0.8079\n"
          ]
        },
        {
          "output_type": "stream",
          "name": "stderr",
          "text": [
            "\rEpochs:  43%|████▎     | 13/30 [00:10<00:12,  1.35it/s]"
          ]
        },
        {
          "output_type": "stream",
          "name": "stdout",
          "text": [
            " Train Loss: 0.4465, Train Acc: 0.8076, Val Loss: 0.4437, Val Acc: 0.8084\n"
          ]
        },
        {
          "output_type": "stream",
          "name": "stderr",
          "text": [
            "\rEpochs:  47%|████▋     | 14/30 [00:11<00:11,  1.36it/s]"
          ]
        },
        {
          "output_type": "stream",
          "name": "stdout",
          "text": [
            " Train Loss: 0.4451, Train Acc: 0.8073, Val Loss: 0.4424, Val Acc: 0.8079\n"
          ]
        },
        {
          "output_type": "stream",
          "name": "stderr",
          "text": [
            "\rEpochs:  50%|█████     | 15/30 [00:12<00:10,  1.37it/s]"
          ]
        },
        {
          "output_type": "stream",
          "name": "stdout",
          "text": [
            " Train Loss: 0.4438, Train Acc: 0.8077, Val Loss: 0.4415, Val Acc: 0.8088\n"
          ]
        },
        {
          "output_type": "stream",
          "name": "stderr",
          "text": [
            "\rEpochs:  53%|█████▎    | 16/30 [00:12<00:10,  1.39it/s]"
          ]
        },
        {
          "output_type": "stream",
          "name": "stdout",
          "text": [
            " Train Loss: 0.4433, Train Acc: 0.8074, Val Loss: 0.4407, Val Acc: 0.8084\n"
          ]
        },
        {
          "output_type": "stream",
          "name": "stderr",
          "text": [
            "\rEpochs:  57%|█████▋    | 17/30 [00:13<00:10,  1.21it/s]"
          ]
        },
        {
          "output_type": "stream",
          "name": "stdout",
          "text": [
            " Train Loss: 0.4426, Train Acc: 0.8076, Val Loss: 0.4401, Val Acc: 0.8079\n"
          ]
        },
        {
          "output_type": "stream",
          "name": "stderr",
          "text": [
            "\rEpochs:  60%|██████    | 18/30 [00:14<00:11,  1.09it/s]"
          ]
        },
        {
          "output_type": "stream",
          "name": "stdout",
          "text": [
            " Train Loss: 0.4422, Train Acc: 0.8077, Val Loss: 0.4399, Val Acc: 0.8079\n"
          ]
        },
        {
          "output_type": "stream",
          "name": "stderr",
          "text": [
            "\rEpochs:  63%|██████▎   | 19/30 [00:16<00:10,  1.01it/s]"
          ]
        },
        {
          "output_type": "stream",
          "name": "stdout",
          "text": [
            " Train Loss: 0.4418, Train Acc: 0.8075, Val Loss: 0.4396, Val Acc: 0.8087\n"
          ]
        },
        {
          "output_type": "stream",
          "name": "stderr",
          "text": [
            "\rEpochs:  67%|██████▋   | 20/30 [00:17<00:09,  1.03it/s]"
          ]
        },
        {
          "output_type": "stream",
          "name": "stdout",
          "text": [
            " Train Loss: 0.4417, Train Acc: 0.8077, Val Loss: 0.4395, Val Acc: 0.8082\n"
          ]
        },
        {
          "output_type": "stream",
          "name": "stderr",
          "text": [
            "\rEpochs:  70%|███████   | 21/30 [00:17<00:08,  1.11it/s]"
          ]
        },
        {
          "output_type": "stream",
          "name": "stdout",
          "text": [
            " Train Loss: 0.4415, Train Acc: 0.8081, Val Loss: 0.4393, Val Acc: 0.8076\n"
          ]
        },
        {
          "output_type": "stream",
          "name": "stderr",
          "text": [
            "\rEpochs:  73%|███████▎  | 22/30 [00:18<00:06,  1.18it/s]"
          ]
        },
        {
          "output_type": "stream",
          "name": "stdout",
          "text": [
            " Train Loss: 0.4414, Train Acc: 0.8075, Val Loss: 0.4392, Val Acc: 0.8076\n"
          ]
        },
        {
          "output_type": "stream",
          "name": "stderr",
          "text": [
            "\rEpochs:  77%|███████▋  | 23/30 [00:19<00:05,  1.23it/s]"
          ]
        },
        {
          "output_type": "stream",
          "name": "stdout",
          "text": [
            " Train Loss: 0.4415, Train Acc: 0.8075, Val Loss: 0.4393, Val Acc: 0.8073\n"
          ]
        },
        {
          "output_type": "stream",
          "name": "stderr",
          "text": [
            "\rEpochs:  80%|████████  | 24/30 [00:19<00:04,  1.27it/s]"
          ]
        },
        {
          "output_type": "stream",
          "name": "stdout",
          "text": [
            " Train Loss: 0.4411, Train Acc: 0.8078, Val Loss: 0.4392, Val Acc: 0.8075\n"
          ]
        },
        {
          "output_type": "stream",
          "name": "stderr",
          "text": [
            "\rEpochs:  83%|████████▎ | 25/30 [00:20<00:03,  1.27it/s]"
          ]
        },
        {
          "output_type": "stream",
          "name": "stdout",
          "text": [
            " Train Loss: 0.4413, Train Acc: 0.8076, Val Loss: 0.4392, Val Acc: 0.8078\n"
          ]
        },
        {
          "output_type": "stream",
          "name": "stderr",
          "text": [
            "\rEpochs:  87%|████████▋ | 26/30 [00:22<00:04,  1.07s/it]"
          ]
        },
        {
          "output_type": "stream",
          "name": "stdout",
          "text": [
            " Train Loss: 0.4412, Train Acc: 0.8075, Val Loss: 0.4392, Val Acc: 0.8081\n"
          ]
        },
        {
          "output_type": "stream",
          "name": "stderr",
          "text": [
            "\rEpochs:  90%|█████████ | 27/30 [00:25<00:04,  1.56s/it]"
          ]
        },
        {
          "output_type": "stream",
          "name": "stdout",
          "text": [
            " Train Loss: 0.4413, Train Acc: 0.8075, Val Loss: 0.4392, Val Acc: 0.8078\n"
          ]
        },
        {
          "output_type": "stream",
          "name": "stderr",
          "text": [
            "\rEpochs:  93%|█████████▎| 28/30 [00:28<00:04,  2.16s/it]"
          ]
        },
        {
          "output_type": "stream",
          "name": "stdout",
          "text": [
            " Train Loss: 0.4415, Train Acc: 0.8074, Val Loss: 0.4391, Val Acc: 0.8078\n"
          ]
        },
        {
          "output_type": "stream",
          "name": "stderr",
          "text": [
            "\rEpochs:  97%|█████████▋| 29/30 [00:32<00:02,  2.68s/it]"
          ]
        },
        {
          "output_type": "stream",
          "name": "stdout",
          "text": [
            " Train Loss: 0.4413, Train Acc: 0.8075, Val Loss: 0.4393, Val Acc: 0.8082\n"
          ]
        },
        {
          "output_type": "stream",
          "name": "stderr",
          "text": [
            "Epochs: 100%|██████████| 30/30 [00:35<00:00,  1.19s/it]"
          ]
        },
        {
          "output_type": "stream",
          "name": "stdout",
          "text": [
            " Train Loss: 0.4415, Train Acc: 0.8074, Val Loss: 0.4393, Val Acc: 0.8081\n"
          ]
        },
        {
          "output_type": "stream",
          "name": "stderr",
          "text": [
            "\n"
          ]
        }
      ],
      "source": [
        "## TODO train the network\n",
        "num_epochs = 30\n",
        "\n",
        "train_losses_lr, val_losses_lr, train_accs_lr, val_accs_lr = run_training(lr_model, optimizer, loss_fn, device, num_epochs, train_loader, test_loader)"
      ]
    },
    {
      "cell_type": "code",
      "source": [
        "all_models[\"LR\"] = train_losses_lr, val_losses_lr, train_accs_lr, val_accs_lr"
      ],
      "metadata": {
        "id": "qqdRFAn_-BaI"
      },
      "id": "qqdRFAn_-BaI",
      "execution_count": null,
      "outputs": []
    },
    {
      "cell_type": "code",
      "execution_count": null,
      "id": "H-IJWOsATYul",
      "metadata": {
        "id": "H-IJWOsATYul",
        "colab": {
          "base_uri": "https://localhost:8080/",
          "height": 472
        },
        "outputId": "572a6faa-7713-4bae-da6f-346dd1cd6d77"
      },
      "outputs": [
        {
          "output_type": "display_data",
          "data": {
            "text/plain": [
              "<Figure size 640x480 with 1 Axes>"
            ],
            "image/png": "[encoded data removed]"
          },
          "metadata": {}
        }
      ],
      "source": [
        "## todo - plot epochs vs loss with plot_model_progress\n",
        "\n",
        "plot_model_progress(all_models,\"Loss\")"
      ]
    },
    {
      "cell_type": "code",
      "execution_count": null,
      "id": "HjAaYdd8TZed",
      "metadata": {
        "id": "HjAaYdd8TZed",
        "colab": {
          "base_uri": "https://localhost:8080/",
          "height": 489
        },
        "outputId": "b8f4c14f-4248-4bef-d379-c341dfe57893"
      },
      "outputs": [
        {
          "output_type": "stream",
          "name": "stdout",
          "text": [
            "Here\n"
          ]
        },
        {
          "output_type": "display_data",
          "data": {
            "text/plain": [
              "<Figure size 640x480 with 1 Axes>"
            ],
            "image/png": "[encoded data removed]"
          },
          "metadata": {}
        }
      ],
      "source": [
        "## todo - plot epochs and accuracy with plot_model_progress\n",
        "plot_model_progress(all_models,\"acc\")\n"
      ]
    },
    {
      "cell_type": "markdown",
      "id": "cb1bca9a",
      "metadata": {
        "id": "cb1bca9a"
      },
      "source": [
        "\n",
        "## Create a simple MLP\n",
        "\n",
        "As the default tree has 3 layers, let's make a MLP with 3 linear layers and ReLU.\n",
        "Please notice that making convolutions on tabular data does not make much sense even though it is technically possible.   \n",
        "\n",
        "**TODO :** Explain why making convolutions on tabular data does not make much sense. Why do we use an MLP, not a CNN from the previous homework?"
      ]
    },
    {
      "cell_type": "code",
      "execution_count": null,
      "id": "4eecbb52",
      "metadata": {
        "id": "4eecbb52"
      },
      "outputs": [],
      "source": [
        "class TabularNetwork(torch.nn.Module):\n",
        "    def __init__(self, input_dim, output_dim):\n",
        "        \"\"\" Initializes internal Module state. \"\"\"\n",
        "        super(TabularNetwork, self).__init__()\n",
        "        self.network = nn.Sequential(\n",
        "            # TODO : define 3 linear layer with sizes\n",
        "            # input_dim -> input_dim // 2 -> output_dim\n",
        "            # using ReLU as nonlinearity\n",
        "            nn.Linear(input_dim, input_dim // 2),\n",
        "            nn.ReLU(),\n",
        "            nn.Linear(input_dim // 2, output_dim)\n",
        "        )\n",
        "\n",
        "\n",
        "    def forward(self, x):\n",
        "        \"\"\" Defines the computation performed at every call. \"\"\"\n",
        "        # TODO\n",
        "        if x.dtype != torch.float32:\n",
        "            x = x.float()\n",
        "        return self.network(x)"
      ]
    },
    {
      "cell_type": "code",
      "execution_count": null,
      "id": "5OGid8SpMvZz",
      "metadata": {
        "id": "5OGid8SpMvZz"
      },
      "outputs": [],
      "source": [
        "## TODO : define model, optimizer, cross entropy loss,\n",
        "## put model to the device, and train mode\n",
        "## you can optionally try to add regularization\n",
        "\n",
        "lr=0.001\n",
        "input_dim = 8\n",
        "output_dim = 2 # number of classes\n",
        "reg_mlp_model = TabularNetwork(input_dim, output_dim)\n",
        "reg_mlp_model.to(device)\n",
        "reg_mlp_model.train()\n",
        "optimizer = torch.optim.Adam(reg_mlp_model.parameters(), lr=lr, weight_decay=0.00005)\n",
        "loss_function = nn.CrossEntropyLoss()"
      ]
    },
    {
      "cell_type": "code",
      "execution_count": null,
      "id": "Z-WNxtczM5Iv",
      "metadata": {
        "id": "Z-WNxtczM5Iv",
        "colab": {
          "base_uri": "https://localhost:8080/"
        },
        "outputId": "16e5b647-795b-495a-ccab-11969780f88a"
      },
      "outputs": [
        {
          "output_type": "stream",
          "name": "stderr",
          "text": [
            "Epochs:   3%|▎         | 1/30 [00:00<00:22,  1.29it/s]"
          ]
        },
        {
          "output_type": "stream",
          "name": "stdout",
          "text": [
            " Train Loss: 0.6156, Train Acc: 0.7512, Val Loss: 0.5756, Val Acc: 0.7593\n"
          ]
        },
        {
          "output_type": "stream",
          "name": "stderr",
          "text": [
            "\rEpochs:   7%|▋         | 2/30 [00:01<00:21,  1.29it/s]"
          ]
        },
        {
          "output_type": "stream",
          "name": "stdout",
          "text": [
            " Train Loss: 0.5463, Train Acc: 0.7592, Val Loss: 0.5178, Val Acc: 0.7593\n"
          ]
        },
        {
          "output_type": "stream",
          "name": "stderr",
          "text": [
            "\rEpochs:  10%|█         | 3/30 [00:02<00:20,  1.29it/s]"
          ]
        },
        {
          "output_type": "stream",
          "name": "stdout",
          "text": [
            " Train Loss: 0.4989, Train Acc: 0.7592, Val Loss: 0.4778, Val Acc: 0.7594\n"
          ]
        },
        {
          "output_type": "stream",
          "name": "stderr",
          "text": [
            "\rEpochs:  13%|█▎        | 4/30 [00:03<00:20,  1.27it/s]"
          ]
        },
        {
          "output_type": "stream",
          "name": "stdout",
          "text": [
            " Train Loss: 0.4645, Train Acc: 0.7823, Val Loss: 0.4489, Val Acc: 0.8024\n"
          ]
        },
        {
          "output_type": "stream",
          "name": "stderr",
          "text": [
            "\rEpochs:  17%|█▋        | 5/30 [00:04<00:25,  1.01s/it]"
          ]
        },
        {
          "output_type": "stream",
          "name": "stdout",
          "text": [
            " Train Loss: 0.4438, Train Acc: 0.8084, Val Loss: 0.4329, Val Acc: 0.8090\n"
          ]
        },
        {
          "output_type": "stream",
          "name": "stderr",
          "text": [
            "\rEpochs:  20%|██        | 6/30 [00:05<00:26,  1.11s/it]"
          ]
        },
        {
          "output_type": "stream",
          "name": "stdout",
          "text": [
            " Train Loss: 0.4327, Train Acc: 0.8090, Val Loss: 0.4239, Val Acc: 0.8085\n"
          ]
        },
        {
          "output_type": "stream",
          "name": "stderr",
          "text": [
            "\rEpochs:  23%|██▎       | 7/30 [00:06<00:24,  1.07s/it]"
          ]
        },
        {
          "output_type": "stream",
          "name": "stdout",
          "text": [
            " Train Loss: 0.4262, Train Acc: 0.8088, Val Loss: 0.4180, Val Acc: 0.8093\n"
          ]
        },
        {
          "output_type": "stream",
          "name": "stderr",
          "text": [
            "\rEpochs:  27%|██▋       | 8/30 [00:08<00:28,  1.31s/it]"
          ]
        },
        {
          "output_type": "stream",
          "name": "stdout",
          "text": [
            " Train Loss: 0.4216, Train Acc: 0.8104, Val Loss: 0.4134, Val Acc: 0.8111\n"
          ]
        },
        {
          "output_type": "stream",
          "name": "stderr",
          "text": [
            "\rEpochs:  30%|███       | 9/30 [00:10<00:31,  1.52s/it]"
          ]
        },
        {
          "output_type": "stream",
          "name": "stdout",
          "text": [
            " Train Loss: 0.4177, Train Acc: 0.8107, Val Loss: 0.4097, Val Acc: 0.8122\n"
          ]
        },
        {
          "output_type": "stream",
          "name": "stderr",
          "text": [
            "\rEpochs:  33%|███▎      | 10/30 [00:12<00:30,  1.52s/it]"
          ]
        },
        {
          "output_type": "stream",
          "name": "stdout",
          "text": [
            " Train Loss: 0.4142, Train Acc: 0.8114, Val Loss: 0.4061, Val Acc: 0.8131\n"
          ]
        },
        {
          "output_type": "stream",
          "name": "stderr",
          "text": [
            "\rEpochs:  37%|███▋      | 11/30 [00:13<00:25,  1.35s/it]"
          ]
        },
        {
          "output_type": "stream",
          "name": "stdout",
          "text": [
            " Train Loss: 0.4106, Train Acc: 0.8122, Val Loss: 0.4026, Val Acc: 0.8144\n"
          ]
        },
        {
          "output_type": "stream",
          "name": "stderr",
          "text": [
            "\rEpochs:  40%|████      | 12/30 [00:13<00:21,  1.19s/it]"
          ]
        },
        {
          "output_type": "stream",
          "name": "stdout",
          "text": [
            " Train Loss: 0.4071, Train Acc: 0.8122, Val Loss: 0.3994, Val Acc: 0.8151\n"
          ]
        },
        {
          "output_type": "stream",
          "name": "stderr",
          "text": [
            "\rEpochs:  43%|████▎     | 13/30 [00:15<00:20,  1.23s/it]"
          ]
        },
        {
          "output_type": "stream",
          "name": "stdout",
          "text": [
            " Train Loss: 0.4038, Train Acc: 0.8135, Val Loss: 0.3966, Val Acc: 0.8154\n"
          ]
        },
        {
          "output_type": "stream",
          "name": "stderr",
          "text": [
            "\rEpochs:  47%|████▋     | 14/30 [00:16<00:20,  1.26s/it]"
          ]
        },
        {
          "output_type": "stream",
          "name": "stdout",
          "text": [
            " Train Loss: 0.4007, Train Acc: 0.8146, Val Loss: 0.3938, Val Acc: 0.8176\n"
          ]
        },
        {
          "output_type": "stream",
          "name": "stderr",
          "text": [
            "\rEpochs:  50%|█████     | 15/30 [00:17<00:19,  1.29s/it]"
          ]
        },
        {
          "output_type": "stream",
          "name": "stdout",
          "text": [
            " Train Loss: 0.3979, Train Acc: 0.8175, Val Loss: 0.3916, Val Acc: 0.8211\n"
          ]
        },
        {
          "output_type": "stream",
          "name": "stderr",
          "text": [
            "\rEpochs:  53%|█████▎    | 16/30 [00:18<00:16,  1.20s/it]"
          ]
        },
        {
          "output_type": "stream",
          "name": "stdout",
          "text": [
            " Train Loss: 0.3958, Train Acc: 0.8183, Val Loss: 0.3898, Val Acc: 0.8207\n"
          ]
        },
        {
          "output_type": "stream",
          "name": "stderr",
          "text": [
            "\rEpochs:  57%|█████▋    | 17/30 [00:19<00:13,  1.08s/it]"
          ]
        },
        {
          "output_type": "stream",
          "name": "stdout",
          "text": [
            " Train Loss: 0.3940, Train Acc: 0.8191, Val Loss: 0.3887, Val Acc: 0.8214\n"
          ]
        },
        {
          "output_type": "stream",
          "name": "stderr",
          "text": [
            "\rEpochs:  60%|██████    | 18/30 [00:20<00:11,  1.01it/s]"
          ]
        },
        {
          "output_type": "stream",
          "name": "stdout",
          "text": [
            " Train Loss: 0.3923, Train Acc: 0.8193, Val Loss: 0.3877, Val Acc: 0.8220\n"
          ]
        },
        {
          "output_type": "stream",
          "name": "stderr",
          "text": [
            "\rEpochs:  63%|██████▎   | 19/30 [00:21<00:10,  1.00it/s]"
          ]
        },
        {
          "output_type": "stream",
          "name": "stdout",
          "text": [
            " Train Loss: 0.3908, Train Acc: 0.8196, Val Loss: 0.3868, Val Acc: 0.8225\n"
          ]
        },
        {
          "output_type": "stream",
          "name": "stderr",
          "text": [
            "\rEpochs:  67%|██████▋   | 20/30 [00:22<00:10,  1.07s/it]"
          ]
        },
        {
          "output_type": "stream",
          "name": "stdout",
          "text": [
            " Train Loss: 0.3897, Train Acc: 0.8199, Val Loss: 0.3862, Val Acc: 0.8225\n"
          ]
        },
        {
          "output_type": "stream",
          "name": "stderr",
          "text": [
            "\rEpochs:  70%|███████   | 21/30 [00:24<00:10,  1.12s/it]"
          ]
        },
        {
          "output_type": "stream",
          "name": "stdout",
          "text": [
            " Train Loss: 0.3888, Train Acc: 0.8205, Val Loss: 0.3859, Val Acc: 0.8224\n"
          ]
        },
        {
          "output_type": "stream",
          "name": "stderr",
          "text": [
            "\rEpochs:  73%|███████▎  | 22/30 [00:25<00:09,  1.18s/it]"
          ]
        },
        {
          "output_type": "stream",
          "name": "stdout",
          "text": [
            " Train Loss: 0.3883, Train Acc: 0.8194, Val Loss: 0.3857, Val Acc: 0.8222\n"
          ]
        },
        {
          "output_type": "stream",
          "name": "stderr",
          "text": [
            "\rEpochs:  77%|███████▋  | 23/30 [00:26<00:09,  1.29s/it]"
          ]
        },
        {
          "output_type": "stream",
          "name": "stdout",
          "text": [
            " Train Loss: 0.3878, Train Acc: 0.8198, Val Loss: 0.3856, Val Acc: 0.8220\n"
          ]
        },
        {
          "output_type": "stream",
          "name": "stderr",
          "text": [
            "\rEpochs:  80%|████████  | 24/30 [00:28<00:08,  1.36s/it]"
          ]
        },
        {
          "output_type": "stream",
          "name": "stdout",
          "text": [
            " Train Loss: 0.3876, Train Acc: 0.8201, Val Loss: 0.3855, Val Acc: 0.8225\n"
          ]
        },
        {
          "output_type": "stream",
          "name": "stderr",
          "text": [
            "\rEpochs:  83%|████████▎ | 25/30 [00:29<00:06,  1.35s/it]"
          ]
        },
        {
          "output_type": "stream",
          "name": "stdout",
          "text": [
            " Train Loss: 0.3867, Train Acc: 0.8204, Val Loss: 0.3855, Val Acc: 0.8214\n"
          ]
        },
        {
          "output_type": "stream",
          "name": "stderr",
          "text": [
            "\rEpochs:  87%|████████▋ | 26/30 [00:31<00:06,  1.58s/it]"
          ]
        },
        {
          "output_type": "stream",
          "name": "stdout",
          "text": [
            " Train Loss: 0.3867, Train Acc: 0.8198, Val Loss: 0.3853, Val Acc: 0.8219\n"
          ]
        },
        {
          "output_type": "stream",
          "name": "stderr",
          "text": [
            "\rEpochs:  90%|█████████ | 27/30 [00:32<00:04,  1.34s/it]"
          ]
        },
        {
          "output_type": "stream",
          "name": "stdout",
          "text": [
            " Train Loss: 0.3862, Train Acc: 0.8201, Val Loss: 0.3852, Val Acc: 0.8217\n"
          ]
        },
        {
          "output_type": "stream",
          "name": "stderr",
          "text": [
            "\rEpochs:  93%|█████████▎| 28/30 [00:33<00:02,  1.16s/it]"
          ]
        },
        {
          "output_type": "stream",
          "name": "stdout",
          "text": [
            " Train Loss: 0.3860, Train Acc: 0.8200, Val Loss: 0.3850, Val Acc: 0.8220\n"
          ]
        },
        {
          "output_type": "stream",
          "name": "stderr",
          "text": [
            "\rEpochs:  97%|█████████▋| 29/30 [00:34<00:01,  1.06s/it]"
          ]
        },
        {
          "output_type": "stream",
          "name": "stdout",
          "text": [
            " Train Loss: 0.3858, Train Acc: 0.8204, Val Loss: 0.3847, Val Acc: 0.8216\n"
          ]
        },
        {
          "output_type": "stream",
          "name": "stderr",
          "text": [
            "Epochs: 100%|██████████| 30/30 [00:35<00:00,  1.17s/it]"
          ]
        },
        {
          "output_type": "stream",
          "name": "stdout",
          "text": [
            " Train Loss: 0.3855, Train Acc: 0.8210, Val Loss: 0.3845, Val Acc: 0.8225\n"
          ]
        },
        {
          "output_type": "stream",
          "name": "stderr",
          "text": [
            "\n"
          ]
        }
      ],
      "source": [
        "## TODO : Train model\n",
        "num_epochs = 30\n",
        "train_losses_mlp_reg, val_losses_mlp_reg, train_accs_mlp_reg, val_accs_mlp_reg  = run_training(reg_mlp_model, optimizer, loss_fn, device, num_epochs, train_loader, test_loader)"
      ]
    },
    {
      "cell_type": "code",
      "source": [
        "all_models[\"mlp+reg\"] = train_losses_lr, val_losses_lr, train_accs_lr, val_accs_lr"
      ],
      "metadata": {
        "id": "rbluoUaT_jtY"
      },
      "id": "rbluoUaT_jtY",
      "execution_count": null,
      "outputs": []
    },
    {
      "cell_type": "code",
      "execution_count": null,
      "id": "I_xVns4qM5eO",
      "metadata": {
        "id": "I_xVns4qM5eO",
        "colab": {
          "base_uri": "https://localhost:8080/",
          "height": 472
        },
        "outputId": "6ec6ae75-b0c2-4cb4-b377-ba2b23206789"
      },
      "outputs": [
        {
          "output_type": "display_data",
          "data": {
            "text/plain": [
              "<Figure size 640x480 with 1 Axes>"
            ],
            "image/png": "[encoded data removed]"
          },
          "metadata": {}
        }
      ],
      "source": [
        "## todo - plot epochs vs loss with plot_model_progress\n",
        "plot_model_progress(all_models,\"loss\")"
      ]
    },
    {
      "cell_type": "code",
      "execution_count": null,
      "id": "JRAEaYnYUpd_",
      "metadata": {
        "id": "JRAEaYnYUpd_",
        "colab": {
          "base_uri": "https://localhost:8080/",
          "height": 489
        },
        "outputId": "edc5e739-ae69-46c8-c15a-6e89408af60b"
      },
      "outputs": [
        {
          "output_type": "stream",
          "name": "stdout",
          "text": [
            "Here\n"
          ]
        },
        {
          "output_type": "display_data",
          "data": {
            "text/plain": [
              "<Figure size 640x480 with 1 Axes>"
            ],
            "image/png": "[encoded data removed]"
          },
          "metadata": {}
        }
      ],
      "source": [
        "## todo - plot epochs and accuracy with plot_model_progress\n",
        "plot_model_progress(all_models,\"acc\")"
      ]
    },
    {
      "cell_type": "markdown",
      "id": "J8HbVqiUznBu",
      "metadata": {
        "id": "J8HbVqiUznBu"
      },
      "source": [
        "**TODO:** Did your network perform better or worse than the GradientBoostingClassifier on this dataset? Why?\n"
      ]
    },
    {
      "cell_type": "markdown",
      "id": "cc0f5f87",
      "metadata": {
        "id": "cc0f5f87"
      },
      "source": [
        "## Bonus tasks (optional)\n",
        "* Try to use SGD instead of Adam as optimizer. What do you notice?\n",
        "Here are different opinions on this topic:\n",
        "  * https://codeahoy.com/questions/ds-interview/33/#:~:text=Adam%20tends%20to%20converge%20faster,converges%20to%20more%20optimal%20solutions.\n",
        "  * https://shaoanlu.wordpress.com/2017/05/29/sgd-all-which-one-is-the-best-optimizer-dogs-vs-cats-toy-experiment/\n",
        "  * https://datascience.stackexchange.com/questions/30344/why-not-always-use-the-adam-optimization-technique\n",
        "\n",
        "* Try to make your MLP twice deeper. What do you notice? Why?\n",
        "\n",
        "## Advanced topic to read about:\n",
        "**Tools which may be helpful for data exploration:**\n",
        "* df.describe() - returns some basic statistics for your dataset - https://pandas.pydata.org/docs/reference/api/pandas.DataFrame.describe.html\n",
        "* ydata-profiling (previous pandas-profiling) - generates interactive data exploration report: basic statistics, nans, correlations between different features - https://github.com/ydataai/ydata-profiling\n",
        "\n",
        "**Tree libraries**\n",
        "* XGBoost - XGBoost stands for “Extreme Gradient Boosting”, where the term “Gradient Boosting” originates from the paper Greedy Function Approximation: A Gradient Boosting Machine, by Friedman. https://xgboost.readthedocs.io/en/stable/tutorials/model.html\n",
        "* LightGBM - industrial library for XGBoost from Miscrosoft. LightGBM is a gradient boosting framework that uses tree based learning algorithms. It is designed to be distributed and efficient. https://lightgbm.readthedocs.io/en/v3.3.2/"
      ]
    }
  ],
  "metadata": {
    "colab": {
      "provenance": [],
      "collapsed_sections": [
        "94d40f1b"
      ]
    },
    "kernelspec": {
      "display_name": "Python 3",
      "name": "python3"
    },
    "language_info": {
      "codemirror_mode": {
        "name": "ipython",
        "version": 3
      },
      "file_extension": ".py",
      "mimetype": "text/x-python",
      "name": "python",
      "nbconvert_exporter": "python",
      "pygments_lexer": "ipython3",
      "version": "3.9.18"
    },
    "vscode": {
      "interpreter": {
        "hash": "31f2aee4e71d21fbe5cf8b01ff0e069b9275f58929596ceb00d14d90e3e16cd6"
      }
    }
  },
  "nbformat": 4,
  "nbformat_minor": 5
}